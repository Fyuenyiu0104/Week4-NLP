{
 "cells": [
  {
   "cell_type": "markdown",
   "id": "a4904b79",
   "metadata": {
    "papermill": {
     "duration": 0.007301,
     "end_time": "2024-08-07T00:55:33.050801",
     "exception": false,
     "start_time": "2024-08-07T00:55:33.043500",
     "status": "completed"
    },
    "tags": []
   },
   "source": [
    "## Problem Description\n",
    "The Kaggle competition \"Natural Language Processing with Disaster Tweets\" is centered around classifying tweets to determine if they are about real disasters or not. The challenge requires participants to build a model that can accurately predict whether a given tweet pertains to an actual disaster (label 1) or not (label 0). This problem is a binary text classification task, which is a common application of Natural Language Processing (NLP).\n",
    "\n",
    "\n",
    "## Brief Description\n",
    "### Problem Description\n",
    "The Kaggle competition \"Natural Language Processing with Disaster Tweets\" is centered around classifying tweets to determine if they are about real disasters or not. The challenge requires participants to build a model that can accurately predict whether a given tweet pertains to an actual disaster (label 1) or not (label 0). This problem is a binary text classification task, which is a common application of Natural Language Processing (NLP).\n",
    "\n",
    "### Data Description\n",
    "1. Training Data (train.csv)\n",
    "\n",
    "Columns:\n",
    "id: Unique identifier for each tweet.\n",
    "keyword: Keyword from the tweet.\n",
    "location: Location from where the tweet was posted.\n",
    "text: The actual text of the tweet.\n",
    "target: The target variable (1 if the tweet is about a real disaster, 0 otherwise).\n",
    "Size and Structure:\n",
    "Number of rows: 7,613\n",
    "Number of columns: 5\n",
    "2. Test Data (test.csv)\n",
    "\n",
    "Columns:\n",
    "id: Unique identifier for each tweet.\n",
    "keyword: Keyword from the tweet.\n",
    "location: Location from where the tweet was posted.\n",
    "text: The actual text of the tweet.\n",
    "Size and Structure:\n",
    "Number of rows: 3,263\n",
    "Number of columns: 4\n",
    "3. Sample Submission (sample_submission.csv)\n",
    "\n",
    "Columns:\n",
    "id: Unique identifier for each tweet.\n",
    "target: Placeholder column for predicted target variable (1 or 0).\n",
    "Size and Structure:\n",
    "Number of rows: 3,263 (same as the test data)\n",
    "Number of columns: 2\n"
   ]
  },
  {
   "cell_type": "code",
   "execution_count": 1,
   "id": "82aee726",
   "metadata": {
    "execution": {
     "iopub.execute_input": "2024-08-07T00:55:33.066770Z",
     "iopub.status.busy": "2024-08-07T00:55:33.066309Z",
     "iopub.status.idle": "2024-08-07T00:55:57.239539Z",
     "shell.execute_reply": "2024-08-07T00:55:57.238118Z"
    },
    "papermill": {
     "duration": 24.184237,
     "end_time": "2024-08-07T00:55:57.242258",
     "exception": false,
     "start_time": "2024-08-07T00:55:33.058021",
     "status": "completed"
    },
    "tags": []
   },
   "outputs": [
    {
     "name": "stdout",
     "output_type": "stream",
     "text": [
      "[nltk_data] Error loading stopwords: <urlopen error [Errno -3]\n",
      "[nltk_data]     Temporary failure in name resolution>\n"
     ]
    },
    {
     "data": {
      "text/plain": [
       "False"
      ]
     },
     "execution_count": 1,
     "metadata": {},
     "output_type": "execute_result"
    }
   ],
   "source": [
    "import pandas as pd\n",
    "import numpy as np\n",
    "import matplotlib.pyplot as plt\n",
    "import seaborn as sns\n",
    "import re\n",
    "import string\n",
    "\n",
    "from sklearn.model_selection import train_test_split\n",
    "from sklearn.feature_extraction.text import TfidfVectorizer\n",
    "from sklearn.linear_model import LogisticRegression\n",
    "from sklearn.metrics import classification_report, accuracy_score\n",
    "from sklearn.pipeline import Pipeline\n",
    "from sklearn.ensemble import RandomForestClassifier, GradientBoostingClassifier, VotingClassifier\n",
    "from sklearn.svm import SVC\n",
    "from xgboost import XGBClassifier\n",
    "from sklearn.model_selection import GridSearchCV\n",
    "\n",
    "\n",
    "import nltk\n",
    "from nltk.corpus import stopwords\n",
    "from nltk.stem import PorterStemmer\n",
    "nltk.download('stopwords')"
   ]
  },
  {
   "cell_type": "markdown",
   "id": "886bc23c",
   "metadata": {
    "papermill": {
     "duration": 0.007394,
     "end_time": "2024-08-07T00:55:57.257041",
     "exception": false,
     "start_time": "2024-08-07T00:55:57.249647",
     "status": "completed"
    },
    "tags": []
   },
   "source": [
    "## Exploratory Data Analysis (EDA)"
   ]
  },
  {
   "cell_type": "markdown",
   "id": "989454b1",
   "metadata": {
    "papermill": {
     "duration": 0.006833,
     "end_time": "2024-08-07T00:55:57.271094",
     "exception": false,
     "start_time": "2024-08-07T00:55:57.264261",
     "status": "completed"
    },
    "tags": []
   },
   "source": [
    "## Data Cleaning Procedures\n",
    "Based on the initial EDA, the following data cleaning steps are proposed:\n",
    "\n",
    "### Handling Missing Values:\n",
    "Check for missing values in keyword and location columns.\n",
    "Decide on a strategy for handling missing values (e.g., imputation, filling with a placeholder, or dropping).\n",
    "\n",
    "### Text Preprocessing:\n",
    "Convert text to lowercase.\n",
    "Remove punctuation, special characters, and numbers.\n",
    "Tokenization: Splitting the text into individual words.\n",
    "Removing stopwords: Common words that do not carry significant meaning.\n",
    "Lemmatization/Stemming: Reducing words to their root forms.\n",
    "## Plan of Analysis\n",
    "### Data Cleaning and Preprocessing:\n",
    "Clean and preprocess the text data using the steps mentioned above.\n",
    "Handle missing values appropriately.\n",
    "\n",
    "### Feature Engineering:\n",
    "Create additional features, such as tweet length, presence of specific keywords, and sentiment analysis scores.\n",
    "\n",
    "### Model Selection:\n",
    "Experiment with different machine learning models for text classification, such as Logistic Regression, Naive Bayes, and Support Vector Machines.\n",
    "Use NLP-specific models like TF-IDF Vectorizer, Word2Vec, or more advanced models like BERT.\n",
    "### Model Training and Evaluation:\n",
    "Split the training data into training and validation sets.\n",
    "Train the selected models and evaluate their performance using metrics like accuracy, precision, recall, and F1-score.\n",
    "Fine-tune hyperparameters to improve model performance.\n",
    "### Prediction and Submission:\n",
    "Use the best-performing model to make predictions on the test data.\n",
    "Prepare the submission file in the required format."
   ]
  },
  {
   "cell_type": "code",
   "execution_count": 2,
   "id": "e6d301cb",
   "metadata": {
    "execution": {
     "iopub.execute_input": "2024-08-07T00:55:57.287555Z",
     "iopub.status.busy": "2024-08-07T00:55:57.286965Z",
     "iopub.status.idle": "2024-08-07T00:55:57.386581Z",
     "shell.execute_reply": "2024-08-07T00:55:57.385282Z"
    },
    "papermill": {
     "duration": 0.111029,
     "end_time": "2024-08-07T00:55:57.389497",
     "exception": false,
     "start_time": "2024-08-07T00:55:57.278468",
     "status": "completed"
    },
    "tags": []
   },
   "outputs": [
    {
     "data": {
      "text/html": [
       "<div>\n",
       "<style scoped>\n",
       "    .dataframe tbody tr th:only-of-type {\n",
       "        vertical-align: middle;\n",
       "    }\n",
       "\n",
       "    .dataframe tbody tr th {\n",
       "        vertical-align: top;\n",
       "    }\n",
       "\n",
       "    .dataframe thead th {\n",
       "        text-align: right;\n",
       "    }\n",
       "</style>\n",
       "<table border=\"1\" class=\"dataframe\">\n",
       "  <thead>\n",
       "    <tr style=\"text-align: right;\">\n",
       "      <th></th>\n",
       "      <th>id</th>\n",
       "      <th>keyword</th>\n",
       "      <th>location</th>\n",
       "      <th>text</th>\n",
       "      <th>target</th>\n",
       "    </tr>\n",
       "  </thead>\n",
       "  <tbody>\n",
       "    <tr>\n",
       "      <th>0</th>\n",
       "      <td>1</td>\n",
       "      <td>NaN</td>\n",
       "      <td>NaN</td>\n",
       "      <td>Our Deeds are the Reason of this #earthquake M...</td>\n",
       "      <td>1</td>\n",
       "    </tr>\n",
       "    <tr>\n",
       "      <th>1</th>\n",
       "      <td>4</td>\n",
       "      <td>NaN</td>\n",
       "      <td>NaN</td>\n",
       "      <td>Forest fire near La Ronge Sask. Canada</td>\n",
       "      <td>1</td>\n",
       "    </tr>\n",
       "    <tr>\n",
       "      <th>2</th>\n",
       "      <td>5</td>\n",
       "      <td>NaN</td>\n",
       "      <td>NaN</td>\n",
       "      <td>All residents asked to 'shelter in place' are ...</td>\n",
       "      <td>1</td>\n",
       "    </tr>\n",
       "    <tr>\n",
       "      <th>3</th>\n",
       "      <td>6</td>\n",
       "      <td>NaN</td>\n",
       "      <td>NaN</td>\n",
       "      <td>13,000 people receive #wildfires evacuation or...</td>\n",
       "      <td>1</td>\n",
       "    </tr>\n",
       "    <tr>\n",
       "      <th>4</th>\n",
       "      <td>7</td>\n",
       "      <td>NaN</td>\n",
       "      <td>NaN</td>\n",
       "      <td>Just got sent this photo from Ruby #Alaska as ...</td>\n",
       "      <td>1</td>\n",
       "    </tr>\n",
       "  </tbody>\n",
       "</table>\n",
       "</div>"
      ],
      "text/plain": [
       "   id keyword location                                               text  \\\n",
       "0   1     NaN      NaN  Our Deeds are the Reason of this #earthquake M...   \n",
       "1   4     NaN      NaN             Forest fire near La Ronge Sask. Canada   \n",
       "2   5     NaN      NaN  All residents asked to 'shelter in place' are ...   \n",
       "3   6     NaN      NaN  13,000 people receive #wildfires evacuation or...   \n",
       "4   7     NaN      NaN  Just got sent this photo from Ruby #Alaska as ...   \n",
       "\n",
       "   target  \n",
       "0       1  \n",
       "1       1  \n",
       "2       1  \n",
       "3       1  \n",
       "4       1  "
      ]
     },
     "execution_count": 2,
     "metadata": {},
     "output_type": "execute_result"
    }
   ],
   "source": [
    "train = pd.read_csv('/kaggle/input/nlp-getting-started/train.csv')\n",
    "test = pd.read_csv('/kaggle/input/nlp-getting-started/test.csv')\n",
    "\n",
    "train.head()"
   ]
  },
  {
   "cell_type": "code",
   "execution_count": 3,
   "id": "71ecb1dd",
   "metadata": {
    "execution": {
     "iopub.execute_input": "2024-08-07T00:55:57.406520Z",
     "iopub.status.busy": "2024-08-07T00:55:57.406084Z",
     "iopub.status.idle": "2024-08-07T00:55:57.418126Z",
     "shell.execute_reply": "2024-08-07T00:55:57.416820Z"
    },
    "papermill": {
     "duration": 0.024027,
     "end_time": "2024-08-07T00:55:57.421188",
     "exception": false,
     "start_time": "2024-08-07T00:55:57.397161",
     "status": "completed"
    },
    "tags": []
   },
   "outputs": [
    {
     "name": "stdout",
     "output_type": "stream",
     "text": [
      "id             0\n",
      "keyword       61\n",
      "location    2533\n",
      "text           0\n",
      "target         0\n",
      "dtype: int64\n"
     ]
    }
   ],
   "source": [
    "print(train.isnull().sum())"
   ]
  },
  {
   "cell_type": "code",
   "execution_count": 4,
   "id": "c76f57ad",
   "metadata": {
    "execution": {
     "iopub.execute_input": "2024-08-07T00:55:57.438343Z",
     "iopub.status.busy": "2024-08-07T00:55:57.437879Z",
     "iopub.status.idle": "2024-08-07T00:55:57.458475Z",
     "shell.execute_reply": "2024-08-07T00:55:57.456838Z"
    },
    "papermill": {
     "duration": 0.032281,
     "end_time": "2024-08-07T00:55:57.461199",
     "exception": false,
     "start_time": "2024-08-07T00:55:57.428918",
     "status": "completed"
    },
    "tags": []
   },
   "outputs": [
    {
     "name": "stdout",
     "output_type": "stream",
     "text": [
      "                 id      target\n",
      "count   7613.000000  7613.00000\n",
      "mean    5441.934848     0.42966\n",
      "std     3137.116090     0.49506\n",
      "min        1.000000     0.00000\n",
      "25%     2734.000000     0.00000\n",
      "50%     5408.000000     0.00000\n",
      "75%     8146.000000     1.00000\n",
      "max    10873.000000     1.00000\n"
     ]
    }
   ],
   "source": [
    "print(train.describe())"
   ]
  },
  {
   "cell_type": "code",
   "execution_count": 5,
   "id": "8c3a660b",
   "metadata": {
    "execution": {
     "iopub.execute_input": "2024-08-07T00:55:57.478569Z",
     "iopub.status.busy": "2024-08-07T00:55:57.478139Z",
     "iopub.status.idle": "2024-08-07T00:55:57.706777Z",
     "shell.execute_reply": "2024-08-07T00:55:57.705570Z"
    },
    "papermill": {
     "duration": 0.240741,
     "end_time": "2024-08-07T00:55:57.709704",
     "exception": false,
     "start_time": "2024-08-07T00:55:57.468963",
     "status": "completed"
    },
    "tags": []
   },
   "outputs": [
    {
     "data": {
      "image/png": "[encoded data removed]",
      "text/plain": [
       "<Figure size 800x600 with 1 Axes>"
      ]
     },
     "metadata": {},
     "output_type": "display_data"
    }
   ],
   "source": [
    "plt.figure(figsize=(8, 6))\n",
    "sns.countplot(x='target', data=train, palette='viridis')\n",
    "plt.title('Distribution of Target Variable')\n",
    "plt.xlabel('Target')\n",
    "plt.ylabel('Count')\n",
    "plt.show()"
   ]
  },
  {
   "cell_type": "code",
   "execution_count": 6,
   "id": "a3e56bd1",
   "metadata": {
    "execution": {
     "iopub.execute_input": "2024-08-07T00:55:57.727729Z",
     "iopub.status.busy": "2024-08-07T00:55:57.727287Z",
     "iopub.status.idle": "2024-08-07T00:55:58.201737Z",
     "shell.execute_reply": "2024-08-07T00:55:58.200202Z"
    },
    "papermill": {
     "duration": 0.4868,
     "end_time": "2024-08-07T00:55:58.204808",
     "exception": false,
     "start_time": "2024-08-07T00:55:57.718008",
     "status": "completed"
    },
    "tags": []
   },
   "outputs": [
    {
     "name": "stderr",
     "output_type": "stream",
     "text": [
      "/opt/conda/lib/python3.10/site-packages/seaborn/_oldcore.py:1119: FutureWarning: use_inf_as_na option is deprecated and will be removed in a future version. Convert inf values to NaN before operating instead.\n",
      "  with pd.option_context('mode.use_inf_as_na', True):\n"
     ]
    },
    {
     "data": {
      "image/png": "[encoded data removed]",
      "text/plain": [
       "<Figure size 1000x600 with 1 Axes>"
      ]
     },
     "metadata": {},
     "output_type": "display_data"
    }
   ],
   "source": [
    "train['text_length'] = train['text'].apply(len)\n",
    "\n",
    "plt.figure(figsize=(10, 6))\n",
    "sns.histplot(train['text_length'], kde=True, color='purple', bins=30)\n",
    "plt.title('Distribution of Tweet Lengths')\n",
    "plt.xlabel('Tweet Length')\n",
    "plt.ylabel('Frequency')\n",
    "plt.show()"
   ]
  },
  {
   "cell_type": "code",
   "execution_count": 7,
   "id": "248153db",
   "metadata": {
    "execution": {
     "iopub.execute_input": "2024-08-07T00:55:58.225743Z",
     "iopub.status.busy": "2024-08-07T00:55:58.224566Z",
     "iopub.status.idle": "2024-08-07T00:55:59.211770Z",
     "shell.execute_reply": "2024-08-07T00:55:59.210321Z"
    },
    "papermill": {
     "duration": 1.000907,
     "end_time": "2024-08-07T00:55:59.214842",
     "exception": false,
     "start_time": "2024-08-07T00:55:58.213935",
     "status": "completed"
    },
    "tags": []
   },
   "outputs": [],
   "source": [
    "# Visualize top 20 most frequent words in the tweets (excluding stop words)\n",
    "from sklearn.feature_extraction.text import CountVectorizer\n",
    "from collections import Counter\n",
    "\n",
    "vectorizer = CountVectorizer(stop_words='english')\n",
    "word_count_vector = vectorizer.fit_transform(train['text'])\n",
    "word_counts = word_count_vector.toarray().sum(axis=0)\n",
    "vocab = vectorizer.get_feature_names_out()"
   ]
  },
  {
   "cell_type": "code",
   "execution_count": 8,
   "id": "495cee85",
   "metadata": {
    "execution": {
     "iopub.execute_input": "2024-08-07T00:55:59.235300Z",
     "iopub.status.busy": "2024-08-07T00:55:59.234301Z",
     "iopub.status.idle": "2024-08-07T00:55:59.717084Z",
     "shell.execute_reply": "2024-08-07T00:55:59.715945Z"
    },
    "papermill": {
     "duration": 0.495818,
     "end_time": "2024-08-07T00:55:59.719682",
     "exception": false,
     "start_time": "2024-08-07T00:55:59.223864",
     "status": "completed"
    },
    "tags": []
   },
   "outputs": [
    {
     "data": {
      "image/png": "[encoded data removed]",
      "text/plain": [
       "<Figure size 1200x800 with 1 Axes>"
      ]
     },
     "metadata": {},
     "output_type": "display_data"
    }
   ],
   "source": [
    "common_words_df = pd.DataFrame(sorted(list(zip(vocab, word_counts)), key=lambda x: x[1], reverse=True)[:20], \n",
    "                               columns=['Word', 'Count'])\n",
    "\n",
    "plt.figure(figsize=(12, 8))\n",
    "sns.barplot(x='Count', y='Word', data=common_words_df, palette='coolwarm')\n",
    "plt.title('Top 20 Most Frequent Words')\n",
    "plt.xlabel('Count')\n",
    "plt.ylabel('Word')\n",
    "plt.show()"
   ]
  },
  {
   "cell_type": "markdown",
   "id": "a612c7bb",
   "metadata": {
    "papermill": {
     "duration": 0.009245,
     "end_time": "2024-08-07T00:55:59.738542",
     "exception": false,
     "start_time": "2024-08-07T00:55:59.729297",
     "status": "completed"
    },
    "tags": []
   },
   "source": [
    "## Model Architecture and Reasoning\n",
    "### Model Selection: Recurrent Neural Network (RNN)\n",
    "For this text classification problem, I have chosen to use a Recurrent Neural Network (RNN) with an advanced architecture like Long Short-Term Memory (LSTM). Here’s the reasoning behind this choice:\n",
    "\n",
    "### Sequence Modeling: \n",
    "RNNs are specifically designed to handle sequential data, which makes them suitable for text processing tasks where the order of words is important.\n",
    "### Handling Long Dependencies: \n",
    "LSTMs are capable of learning long-term dependencies in sequences. This is crucial for text classification tasks, as the meaning of a tweet may depend on words that are far apart.\n",
    "### Context Preservation: \n",
    "Unlike traditional models, LSTMs can maintain context over longer sequences, which helps in understanding the overall sentiment or intent in tweets.\n",
    "### Bidirectional Processing: \n",
    "Using a Bidirectional LSTM allows the model to process the text in both forward and backward directions, which can lead to better understanding and improved performance.\n",
    "### Text Processing and Word Embedding\n",
    "\n",
    "### TF-IDF (Term Frequency-Inverse Document Frequency)\n",
    "TF-IDF is a statistical measure used to evaluate the importance of a word in a document relative to a collection of documents (corpus). It combines two metrics:\n",
    "\n",
    "### Term Frequency (TF): \n",
    "The frequency of a word in a document.\n",
    "### Inverse Document Frequency (IDF): \n",
    "The inverse of the number of documents containing the word, which helps in reducing the weight of commonly used words.\n",
    "TF-IDF works by multiplying the TF and IDF values for each word, giving higher scores to words that are frequent in a document but rare across the corpus."
   ]
  },
  {
   "cell_type": "code",
   "execution_count": 9,
   "id": "dd206d8f",
   "metadata": {
    "execution": {
     "iopub.execute_input": "2024-08-07T00:55:59.759296Z",
     "iopub.status.busy": "2024-08-07T00:55:59.758904Z",
     "iopub.status.idle": "2024-08-07T00:56:00.104892Z",
     "shell.execute_reply": "2024-08-07T00:56:00.103720Z"
    },
    "papermill": {
     "duration": 0.360298,
     "end_time": "2024-08-07T00:56:00.108344",
     "exception": false,
     "start_time": "2024-08-07T00:55:59.748046",
     "status": "completed"
    },
    "tags": []
   },
   "outputs": [],
   "source": [
    "def preprocess(text):\n",
    "    text = text.lower() # Convert to lowercase\n",
    "    text = re.sub(r'https?://\\S+|www\\.\\S+', '', text) # Remove URLs\n",
    "    text = re.sub(r'<.*?>', '', text) # Remove HTML tags\n",
    "    text = re.sub(r'\\d+', '', text) # Remove digits\n",
    "    text = re.sub(f'[{re.escape(string.punctuation)}]', '', text) # Remove punctuation\n",
    "    text = re.sub(r'\\n', '', text) # Remove newline characters\n",
    "    text = re.sub(r'\\s+', ' ', text).strip() # Remove extra spaces\n",
    "    return text\n",
    "\n",
    "train['text'] = train['text'].apply(preprocess)\n",
    "test['text'] = test['text'].apply(preprocess)"
   ]
  },
  {
   "cell_type": "code",
   "execution_count": 10,
   "id": "422e9f94",
   "metadata": {
    "execution": {
     "iopub.execute_input": "2024-08-07T00:56:00.129992Z",
     "iopub.status.busy": "2024-08-07T00:56:00.129602Z",
     "iopub.status.idle": "2024-08-07T00:56:00.140711Z",
     "shell.execute_reply": "2024-08-07T00:56:00.139632Z"
    },
    "papermill": {
     "duration": 0.024764,
     "end_time": "2024-08-07T00:56:00.143307",
     "exception": false,
     "start_time": "2024-08-07T00:56:00.118543",
     "status": "completed"
    },
    "tags": []
   },
   "outputs": [],
   "source": [
    "X_train, X_val, y_train, y_val = train_test_split(train['text'], train['target'], test_size=0.2, random_state=42)"
   ]
  },
  {
   "cell_type": "code",
   "execution_count": 11,
   "id": "75a79497",
   "metadata": {
    "execution": {
     "iopub.execute_input": "2024-08-07T00:56:00.165313Z",
     "iopub.status.busy": "2024-08-07T00:56:00.164898Z",
     "iopub.status.idle": "2024-08-07T00:56:00.592247Z",
     "shell.execute_reply": "2024-08-07T00:56:00.590761Z"
    },
    "papermill": {
     "duration": 0.442202,
     "end_time": "2024-08-07T00:56:00.595156",
     "exception": false,
     "start_time": "2024-08-07T00:56:00.152954",
     "status": "completed"
    },
    "tags": []
   },
   "outputs": [],
   "source": [
    "tfidf = TfidfVectorizer(max_features=15000, stop_words=stopwords.words('english'))\n",
    "X_train_tfidf = tfidf.fit_transform(X_train)\n",
    "X_val_tfidf = tfidf.transform(X_val)\n",
    "X_test_tfidf = tfidf.transform(test['text'])"
   ]
  },
  {
   "cell_type": "code",
   "execution_count": 12,
   "id": "2beec45b",
   "metadata": {
    "execution": {
     "iopub.execute_input": "2024-08-07T00:56:00.616802Z",
     "iopub.status.busy": "2024-08-07T00:56:00.616424Z",
     "iopub.status.idle": "2024-08-07T00:56:05.757008Z",
     "shell.execute_reply": "2024-08-07T00:56:05.755818Z"
    },
    "papermill": {
     "duration": 5.154468,
     "end_time": "2024-08-07T00:56:05.759909",
     "exception": false,
     "start_time": "2024-08-07T00:56:00.605441",
     "status": "completed"
    },
    "tags": []
   },
   "outputs": [],
   "source": [
    "svc = SVC()\n",
    "svc.fit(X_train_tfidf, y_train)\n",
    "y_pred_svc = svc.predict(X_val_tfidf)"
   ]
  },
  {
   "cell_type": "code",
   "execution_count": 13,
   "id": "3136fde5",
   "metadata": {
    "execution": {
     "iopub.execute_input": "2024-08-07T00:56:05.782352Z",
     "iopub.status.busy": "2024-08-07T00:56:05.781397Z",
     "iopub.status.idle": "2024-08-07T00:56:07.801027Z",
     "shell.execute_reply": "2024-08-07T00:56:07.800083Z"
    },
    "papermill": {
     "duration": 2.033271,
     "end_time": "2024-08-07T00:56:07.803772",
     "exception": false,
     "start_time": "2024-08-07T00:56:05.770501",
     "status": "completed"
    },
    "tags": []
   },
   "outputs": [],
   "source": [
    "xgb = XGBClassifier(use_label_encoder=False, eval_metric='logloss')\n",
    "xgb.fit(X_train_tfidf, y_train)\n",
    "y_pred_xgb = xgb.predict(X_val_tfidf)"
   ]
  },
  {
   "cell_type": "code",
   "execution_count": 14,
   "id": "22f148e6",
   "metadata": {
    "execution": {
     "iopub.execute_input": "2024-08-07T00:56:07.826416Z",
     "iopub.status.busy": "2024-08-07T00:56:07.825890Z",
     "iopub.status.idle": "2024-08-07T00:56:10.588852Z",
     "shell.execute_reply": "2024-08-07T00:56:10.587712Z"
    },
    "papermill": {
     "duration": 2.777522,
     "end_time": "2024-08-07T00:56:10.592269",
     "exception": false,
     "start_time": "2024-08-07T00:56:07.814747",
     "status": "completed"
    },
    "tags": []
   },
   "outputs": [
    {
     "name": "stdout",
     "output_type": "stream",
     "text": [
      "Support Vector Classifier Accuracy: 0.7944845699277742\n",
      "XGBoost Accuracy: 0.7760998030203545\n",
      "\n",
      "Best Model: SVC() with Accuracy: 0.7944845699277742\n"
     ]
    }
   ],
   "source": [
    "models = {\n",
    "    'Support Vector Classifier': svc,\n",
    "    'XGBoost': xgb\n",
    "}\n",
    "\n",
    "# Initialize variables to store the best model and accuracy\n",
    "best_model = None\n",
    "best_accuracy = 0\n",
    "\n",
    "# Evaluate each model and store the one with the best accuracy\n",
    "for name, model in models.items():\n",
    "    predictions = model.predict(X_val_tfidf)\n",
    "    accuracy = accuracy_score(y_val, predictions)\n",
    "    print(f'{name} Accuracy: {accuracy}')\n",
    "    \n",
    "    if accuracy > best_accuracy:\n",
    "        best_accuracy = accuracy\n",
    "        best_model = model\n",
    "\n",
    "print(f'\\nBest Model: {best_model} with Accuracy: {best_accuracy}')\n",
    "\n",
    "# Make predictions on the test data using the best model\n",
    "test_predictions = best_model.predict(X_test_tfidf)"
   ]
  },
  {
   "cell_type": "code",
   "execution_count": 15,
   "id": "a9e90ece",
   "metadata": {
    "execution": {
     "iopub.execute_input": "2024-08-07T00:56:10.613820Z",
     "iopub.status.busy": "2024-08-07T00:56:10.613433Z",
     "iopub.status.idle": "2024-08-07T00:56:10.629118Z",
     "shell.execute_reply": "2024-08-07T00:56:10.627901Z"
    },
    "papermill": {
     "duration": 0.029771,
     "end_time": "2024-08-07T00:56:10.631939",
     "exception": false,
     "start_time": "2024-08-07T00:56:10.602168",
     "status": "completed"
    },
    "tags": []
   },
   "outputs": [],
   "source": [
    "# Create the submission DataFrame\n",
    "submission = pd.DataFrame({\n",
    "    'id': test['id'],\n",
    "    'target': test_predictions\n",
    "})\n",
    "\n",
    "# Save the submission file\n",
    "submission.to_csv('submission.csv', index=False)"
   ]
  }
 ],
 "metadata": {
  "kaggle": {
   "accelerator": "none",
   "dataSources": [
    {
     "databundleVersionId": 869809,
     "sourceId": 17777,
     "sourceType": "competition"
    }
   ],
   "dockerImageVersionId": 30746,
   "isGpuEnabled": false,
   "isInternetEnabled": false,
   "language": "python",
   "sourceType": "notebook"
  },
  "kernelspec": {
   "display_name": "Python 3",
   "language": "python",
   "name": "python3"
  },
  "language_info": {
   "codemirror_mode": {
    "name": "ipython",
    "version": 3
   },
   "file_extension": ".py",
   "mimetype": "text/x-python",
   "name": "python",
   "nbconvert_exporter": "python",
   "pygments_lexer": "ipython3",
   "version": "3.10.13"
  },
  "papermill": {
   "default_parameters": {},
   "duration": 41.724716,
   "end_time": "2024-08-07T00:56:11.464778",
   "environment_variables": {},
   "exception": null,
   "input_path": "__notebook__.ipynb",
   "output_path": "__notebook__.ipynb",
   "parameters": {},
   "start_time": "2024-08-07T00:55:29.740062",
   "version": "2.5.0"
  }
 },
 "nbformat": 4,
 "nbformat_minor": 5
}
